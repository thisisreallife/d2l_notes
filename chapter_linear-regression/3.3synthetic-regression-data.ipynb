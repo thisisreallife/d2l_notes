{
  "cells": [
    {
      "cell_type": "markdown",
      "metadata": {
        "id": "view-in-github",
        "colab_type": "text"
      },
      "source": [
        "<a href=\"https://colab.research.google.com/github/thisisreallife/d2l_notes/blob/main/chapter_linear-regression/3.3synthetic-regression-data.ipynb\" target=\"_parent\"><img src=\"https://colab.research.google.com/assets/colab-badge.svg\" alt=\"Open In Colab\"/></a>"
      ]
    },
    {
      "cell_type": "markdown",
      "id": "36bd20a5",
      "metadata": {
        "id": "36bd20a5"
      },
      "source": [
        "The following additional libraries are needed to run this\n",
        "notebook. Note that running on Colab is experimental, please report a Github\n",
        "issue if you have any problem."
      ]
    },
    {
      "cell_type": "code",
      "execution_count": null,
      "id": "17019919",
      "metadata": {
        "colab": {
          "base_uri": "https://localhost:8080/"
        },
        "id": "17019919",
        "outputId": "fb226de4-7b42-4b04-938b-b06664e00bce"
      },
      "outputs": [
        {
          "output_type": "stream",
          "name": "stdout",
          "text": [
            "Looking in indexes: https://pypi.org/simple, https://us-python.pkg.dev/colab-wheels/public/simple/\n",
            "Collecting d2l==1.0.0-alpha0\n",
            "  Downloading d2l-1.0.0a0-py3-none-any.whl (92 kB)\n",
            "\u001b[K     |████████████████████████████████| 92 kB 205 kB/s \n",
            "\u001b[?25hRequirement already satisfied: pandas in /usr/local/lib/python3.7/dist-packages (from d2l==1.0.0-alpha0) (1.3.5)\n",
            "Requirement already satisfied: numpy in /usr/local/lib/python3.7/dist-packages (from d2l==1.0.0-alpha0) (1.21.6)\n",
            "Requirement already satisfied: matplotlib in /usr/local/lib/python3.7/dist-packages (from d2l==1.0.0-alpha0) (3.2.2)\n",
            "Requirement already satisfied: gym in /usr/local/lib/python3.7/dist-packages (from d2l==1.0.0-alpha0) (0.17.3)\n",
            "Requirement already satisfied: jupyter in /usr/local/lib/python3.7/dist-packages (from d2l==1.0.0-alpha0) (1.0.0)\n",
            "Requirement already satisfied: requests in /usr/local/lib/python3.7/dist-packages (from d2l==1.0.0-alpha0) (2.23.0)\n",
            "Requirement already satisfied: cloudpickle<1.7.0,>=1.2.0 in /usr/local/lib/python3.7/dist-packages (from gym->d2l==1.0.0-alpha0) (1.3.0)\n",
            "Requirement already satisfied: scipy in /usr/local/lib/python3.7/dist-packages (from gym->d2l==1.0.0-alpha0) (1.7.3)\n",
            "Requirement already satisfied: pyglet<=1.5.0,>=1.4.0 in /usr/local/lib/python3.7/dist-packages (from gym->d2l==1.0.0-alpha0) (1.5.0)\n",
            "Requirement already satisfied: future in /usr/local/lib/python3.7/dist-packages (from pyglet<=1.5.0,>=1.4.0->gym->d2l==1.0.0-alpha0) (0.16.0)\n",
            "Requirement already satisfied: jupyter-console in /usr/local/lib/python3.7/dist-packages (from jupyter->d2l==1.0.0-alpha0) (5.2.0)\n",
            "Requirement already satisfied: nbconvert in /usr/local/lib/python3.7/dist-packages (from jupyter->d2l==1.0.0-alpha0) (5.6.1)\n",
            "Requirement already satisfied: ipykernel in /usr/local/lib/python3.7/dist-packages (from jupyter->d2l==1.0.0-alpha0) (4.10.1)\n",
            "Requirement already satisfied: qtconsole in /usr/local/lib/python3.7/dist-packages (from jupyter->d2l==1.0.0-alpha0) (5.3.1)\n",
            "Requirement already satisfied: notebook in /usr/local/lib/python3.7/dist-packages (from jupyter->d2l==1.0.0-alpha0) (5.3.1)\n",
            "Requirement already satisfied: ipywidgets in /usr/local/lib/python3.7/dist-packages (from jupyter->d2l==1.0.0-alpha0) (7.7.1)\n",
            "Requirement already satisfied: ipython>=4.0.0 in /usr/local/lib/python3.7/dist-packages (from ipykernel->jupyter->d2l==1.0.0-alpha0) (5.5.0)\n",
            "Requirement already satisfied: traitlets>=4.1.0 in /usr/local/lib/python3.7/dist-packages (from ipykernel->jupyter->d2l==1.0.0-alpha0) (5.1.1)\n",
            "Requirement already satisfied: tornado>=4.0 in /usr/local/lib/python3.7/dist-packages (from ipykernel->jupyter->d2l==1.0.0-alpha0) (5.1.1)\n",
            "Requirement already satisfied: jupyter-client in /usr/local/lib/python3.7/dist-packages (from ipykernel->jupyter->d2l==1.0.0-alpha0) (5.3.5)\n",
            "Requirement already satisfied: prompt-toolkit<2.0.0,>=1.0.4 in /usr/local/lib/python3.7/dist-packages (from ipython>=4.0.0->ipykernel->jupyter->d2l==1.0.0-alpha0) (1.0.18)\n",
            "Requirement already satisfied: pygments in /usr/local/lib/python3.7/dist-packages (from ipython>=4.0.0->ipykernel->jupyter->d2l==1.0.0-alpha0) (2.6.1)\n",
            "Requirement already satisfied: pickleshare in /usr/local/lib/python3.7/dist-packages (from ipython>=4.0.0->ipykernel->jupyter->d2l==1.0.0-alpha0) (0.7.5)\n",
            "Requirement already satisfied: setuptools>=18.5 in /usr/local/lib/python3.7/dist-packages (from ipython>=4.0.0->ipykernel->jupyter->d2l==1.0.0-alpha0) (57.4.0)\n",
            "Requirement already satisfied: simplegeneric>0.8 in /usr/local/lib/python3.7/dist-packages (from ipython>=4.0.0->ipykernel->jupyter->d2l==1.0.0-alpha0) (0.8.1)\n",
            "Requirement already satisfied: decorator in /usr/local/lib/python3.7/dist-packages (from ipython>=4.0.0->ipykernel->jupyter->d2l==1.0.0-alpha0) (4.4.2)\n",
            "Requirement already satisfied: pexpect in /usr/local/lib/python3.7/dist-packages (from ipython>=4.0.0->ipykernel->jupyter->d2l==1.0.0-alpha0) (4.8.0)\n",
            "Requirement already satisfied: six>=1.9.0 in /usr/local/lib/python3.7/dist-packages (from prompt-toolkit<2.0.0,>=1.0.4->ipython>=4.0.0->ipykernel->jupyter->d2l==1.0.0-alpha0) (1.15.0)\n",
            "Requirement already satisfied: wcwidth in /usr/local/lib/python3.7/dist-packages (from prompt-toolkit<2.0.0,>=1.0.4->ipython>=4.0.0->ipykernel->jupyter->d2l==1.0.0-alpha0) (0.2.5)\n",
            "Requirement already satisfied: ipython-genutils~=0.2.0 in /usr/local/lib/python3.7/dist-packages (from ipywidgets->jupyter->d2l==1.0.0-alpha0) (0.2.0)\n",
            "Requirement already satisfied: jupyterlab-widgets>=1.0.0 in /usr/local/lib/python3.7/dist-packages (from ipywidgets->jupyter->d2l==1.0.0-alpha0) (1.1.1)\n",
            "Requirement already satisfied: widgetsnbextension~=3.6.0 in /usr/local/lib/python3.7/dist-packages (from ipywidgets->jupyter->d2l==1.0.0-alpha0) (3.6.1)\n",
            "Requirement already satisfied: nbformat in /usr/local/lib/python3.7/dist-packages (from notebook->jupyter->d2l==1.0.0-alpha0) (5.4.0)\n",
            "Requirement already satisfied: Send2Trash in /usr/local/lib/python3.7/dist-packages (from notebook->jupyter->d2l==1.0.0-alpha0) (1.8.0)\n",
            "Requirement already satisfied: jinja2 in /usr/local/lib/python3.7/dist-packages (from notebook->jupyter->d2l==1.0.0-alpha0) (2.11.3)\n",
            "Requirement already satisfied: jupyter-core>=4.4.0 in /usr/local/lib/python3.7/dist-packages (from notebook->jupyter->d2l==1.0.0-alpha0) (4.11.1)\n",
            "Requirement already satisfied: terminado>=0.8.1 in /usr/local/lib/python3.7/dist-packages (from notebook->jupyter->d2l==1.0.0-alpha0) (0.13.3)\n",
            "Requirement already satisfied: pyzmq>=13 in /usr/local/lib/python3.7/dist-packages (from jupyter-client->ipykernel->jupyter->d2l==1.0.0-alpha0) (23.2.0)\n",
            "Requirement already satisfied: python-dateutil>=2.1 in /usr/local/lib/python3.7/dist-packages (from jupyter-client->ipykernel->jupyter->d2l==1.0.0-alpha0) (2.8.2)\n",
            "Requirement already satisfied: ptyprocess in /usr/local/lib/python3.7/dist-packages (from terminado>=0.8.1->notebook->jupyter->d2l==1.0.0-alpha0) (0.7.0)\n",
            "Requirement already satisfied: MarkupSafe>=0.23 in /usr/local/lib/python3.7/dist-packages (from jinja2->notebook->jupyter->d2l==1.0.0-alpha0) (2.0.1)\n",
            "Requirement already satisfied: pyparsing!=2.0.4,!=2.1.2,!=2.1.6,>=2.0.1 in /usr/local/lib/python3.7/dist-packages (from matplotlib->d2l==1.0.0-alpha0) (3.0.9)\n",
            "Requirement already satisfied: cycler>=0.10 in /usr/local/lib/python3.7/dist-packages (from matplotlib->d2l==1.0.0-alpha0) (0.11.0)\n",
            "Requirement already satisfied: kiwisolver>=1.0.1 in /usr/local/lib/python3.7/dist-packages (from matplotlib->d2l==1.0.0-alpha0) (1.4.4)\n",
            "Requirement already satisfied: typing-extensions in /usr/local/lib/python3.7/dist-packages (from kiwisolver>=1.0.1->matplotlib->d2l==1.0.0-alpha0) (4.1.1)\n",
            "Requirement already satisfied: entrypoints>=0.2.2 in /usr/local/lib/python3.7/dist-packages (from nbconvert->jupyter->d2l==1.0.0-alpha0) (0.4)\n",
            "Requirement already satisfied: mistune<2,>=0.8.1 in /usr/local/lib/python3.7/dist-packages (from nbconvert->jupyter->d2l==1.0.0-alpha0) (0.8.4)\n",
            "Requirement already satisfied: pandocfilters>=1.4.1 in /usr/local/lib/python3.7/dist-packages (from nbconvert->jupyter->d2l==1.0.0-alpha0) (1.5.0)\n",
            "Requirement already satisfied: defusedxml in /usr/local/lib/python3.7/dist-packages (from nbconvert->jupyter->d2l==1.0.0-alpha0) (0.7.1)\n",
            "Requirement already satisfied: testpath in /usr/local/lib/python3.7/dist-packages (from nbconvert->jupyter->d2l==1.0.0-alpha0) (0.6.0)\n",
            "Requirement already satisfied: bleach in /usr/local/lib/python3.7/dist-packages (from nbconvert->jupyter->d2l==1.0.0-alpha0) (5.0.1)\n",
            "Requirement already satisfied: fastjsonschema in /usr/local/lib/python3.7/dist-packages (from nbformat->notebook->jupyter->d2l==1.0.0-alpha0) (2.16.1)\n",
            "Requirement already satisfied: jsonschema>=2.6 in /usr/local/lib/python3.7/dist-packages (from nbformat->notebook->jupyter->d2l==1.0.0-alpha0) (4.3.3)\n",
            "Requirement already satisfied: attrs>=17.4.0 in /usr/local/lib/python3.7/dist-packages (from jsonschema>=2.6->nbformat->notebook->jupyter->d2l==1.0.0-alpha0) (21.4.0)\n",
            "Requirement already satisfied: pyrsistent!=0.17.0,!=0.17.1,!=0.17.2,>=0.14.0 in /usr/local/lib/python3.7/dist-packages (from jsonschema>=2.6->nbformat->notebook->jupyter->d2l==1.0.0-alpha0) (0.18.1)\n",
            "Requirement already satisfied: importlib-metadata in /usr/local/lib/python3.7/dist-packages (from jsonschema>=2.6->nbformat->notebook->jupyter->d2l==1.0.0-alpha0) (4.12.0)\n",
            "Requirement already satisfied: importlib-resources>=1.4.0 in /usr/local/lib/python3.7/dist-packages (from jsonschema>=2.6->nbformat->notebook->jupyter->d2l==1.0.0-alpha0) (5.9.0)\n",
            "Requirement already satisfied: zipp>=3.1.0 in /usr/local/lib/python3.7/dist-packages (from importlib-resources>=1.4.0->jsonschema>=2.6->nbformat->notebook->jupyter->d2l==1.0.0-alpha0) (3.8.1)\n",
            "Requirement already satisfied: webencodings in /usr/local/lib/python3.7/dist-packages (from bleach->nbconvert->jupyter->d2l==1.0.0-alpha0) (0.5.1)\n",
            "Requirement already satisfied: pytz>=2017.3 in /usr/local/lib/python3.7/dist-packages (from pandas->d2l==1.0.0-alpha0) (2022.1)\n",
            "Requirement already satisfied: qtpy>=2.0.1 in /usr/local/lib/python3.7/dist-packages (from qtconsole->jupyter->d2l==1.0.0-alpha0) (2.1.0)\n",
            "Requirement already satisfied: packaging in /usr/local/lib/python3.7/dist-packages (from qtpy>=2.0.1->qtconsole->jupyter->d2l==1.0.0-alpha0) (21.3)\n",
            "Requirement already satisfied: chardet<4,>=3.0.2 in /usr/local/lib/python3.7/dist-packages (from requests->d2l==1.0.0-alpha0) (3.0.4)\n",
            "Requirement already satisfied: certifi>=2017.4.17 in /usr/local/lib/python3.7/dist-packages (from requests->d2l==1.0.0-alpha0) (2022.6.15)\n",
            "Requirement already satisfied: urllib3!=1.25.0,!=1.25.1,<1.26,>=1.21.1 in /usr/local/lib/python3.7/dist-packages (from requests->d2l==1.0.0-alpha0) (1.24.3)\n",
            "Requirement already satisfied: idna<3,>=2.5 in /usr/local/lib/python3.7/dist-packages (from requests->d2l==1.0.0-alpha0) (2.10)\n",
            "Installing collected packages: d2l\n",
            "Successfully installed d2l-1.0.0a0\n"
          ]
        }
      ],
      "source": [
        "!pip install d2l==1.0.0-alpha0"
      ]
    },
    {
      "cell_type": "markdown",
      "id": "3b558085",
      "metadata": {
        "origin_pos": 1,
        "id": "3b558085"
      },
      "source": [
        "# Synthetic Regression Data\n",
        ":label:`sec_synthetic-regression-data`\n",
        "\n",
        "\n",
        "Machine learning is all about extracting information from data.\n",
        "So you might wonder, what could we possibly learn from synthetic data?\n",
        "While we might not care intrinsically about the patterns \n",
        "that we ourselves baked into an artificial data generating model,\n",
        "such datasets are nevertheless useful for didactic purposes,\n",
        "helping us to evaluate the properties of our learning \n",
        "algorithms and to confirm that our implementations work as expected.\n",
        "For example, if we create data for which the correct parameters are known *a priori*,\n",
        "then we can verify that our model can in fact recover them.\n"
      ]
    },
    {
      "cell_type": "code",
      "execution_count": null,
      "id": "312074e5",
      "metadata": {
        "execution": {
          "iopub.execute_input": "2022-07-13T08:07:14.866672Z",
          "iopub.status.busy": "2022-07-13T08:07:14.866350Z",
          "iopub.status.idle": "2022-07-13T08:07:16.763526Z",
          "shell.execute_reply": "2022-07-13T08:07:16.762547Z"
        },
        "origin_pos": 3,
        "tab": [
          "pytorch"
        ],
        "id": "312074e5"
      },
      "outputs": [],
      "source": [
        "%matplotlib inline\n",
        "import random\n",
        "import torch\n",
        "from d2l import torch as d2l"
      ]
    },
    {
      "cell_type": "markdown",
      "id": "156e7b65",
      "metadata": {
        "origin_pos": 5,
        "id": "156e7b65"
      },
      "source": [
        "## Generating the Dataset\n",
        "\n",
        "For this example, we will work low-dimensional\n",
        "for succinctness.\n",
        "The following code snippet generates 1000 examples\n",
        "with 2-dimensional features drawn \n",
        "from a standard normal distribution.\n",
        "The resulting design matrix $\\mathbf{X}$\n",
        "belongs to $\\mathbb{R}^{1000 \\times 2}$. \n",
        "We generate each label by applying \n",
        "a *ground truth* linear function, \n",
        "corrupted them via additive noise $\\epsilon$, \n",
        "drawn independently and identically for each example:\n",
        "\n",
        "(**$$\\mathbf{y}= \\mathbf{X} \\mathbf{w} + b + \\mathbf\\epsilon.$$**)\n",
        "\n",
        "For convenience we assume that $\\epsilon$ is drawn \n",
        "from a normal distribution with mean $\\mu= 0$ \n",
        "and standard deviation $\\sigma = 0.01$.\n",
        "Note that for object-oriented design\n",
        "we add the code to the `__init__` method of a subclass of `d2l.DataModule` (introduced in :numref:`oo-design-data`). \n",
        "It's good practice to allow setting any additional hyperparameters. \n",
        "We accomplish this with `save_hyperparameters()`. \n",
        "The `batch_size` will be determined later on.\n"
      ]
    },
    {
      "cell_type": "code",
      "source": [
        "import numpy as np\n",
        "A = torch.randn(2,3)\n",
        "B = np.random.randn(3,1)"
      ],
      "metadata": {
        "id": "ho4QDsdh5B6z"
      },
      "id": "ho4QDsdh5B6z",
      "execution_count": null,
      "outputs": []
    },
    {
      "cell_type": "code",
      "source": [
        "A @ B # this works, which means python @ operator support tensor and numpy.array\n",
        "# torch.mm(A, B) # don't work, cuz B is not a tensor"
      ],
      "metadata": {
        "id": "yZRJbYZe5Vsu",
        "outputId": "70edfbe1-99a3-4c25-f486-2b35da0ddf79",
        "colab": {
          "base_uri": "https://localhost:8080/"
        }
      },
      "id": "yZRJbYZe5Vsu",
      "execution_count": null,
      "outputs": [
        {
          "output_type": "execute_result",
          "data": {
            "text/plain": [
              "tensor([[0.8937],\n",
              "        [0.5191]], dtype=torch.float64)"
            ]
          },
          "metadata": {},
          "execution_count": 38
        }
      ]
    },
    {
      "cell_type": "code",
      "source": [
        "# ways to perform matrix multiplication\n",
        "A = torch.randn(2,3)\n",
        "B = torch.randn(3,1)\n",
        "A @ B, A.mm(B), torch.mm(A,B), torch.matmul(A,B)"
      ],
      "metadata": {
        "id": "FRN-WkQO4Q0j",
        "outputId": "5f133cec-bf7b-4ec4-9450-c787c6cfa522",
        "colab": {
          "base_uri": "https://localhost:8080/"
        }
      },
      "id": "FRN-WkQO4Q0j",
      "execution_count": null,
      "outputs": [
        {
          "output_type": "execute_result",
          "data": {
            "text/plain": [
              "(tensor([[ 0.1354],\n",
              "         [-1.6401]]), tensor([[ 0.1354],\n",
              "         [-1.6401]]), tensor([[ 0.1354],\n",
              "         [-1.6401]]), tensor([[ 0.1354],\n",
              "         [-1.6401]]))"
            ]
          },
          "metadata": {},
          "execution_count": 39
        }
      ]
    },
    {
      "cell_type": "code",
      "source": [
        "%%timeit\n",
        "A = torch.randn(2,3)\n",
        "B = torch.randn(3,1)\n",
        "A @ B"
      ],
      "metadata": {
        "id": "iPc7-_MZ5rJB",
        "outputId": "6ef388cf-9248-42c0-d066-7e890e43b4dc",
        "colab": {
          "base_uri": "https://localhost:8080/"
        }
      },
      "id": "iPc7-_MZ5rJB",
      "execution_count": null,
      "outputs": [
        {
          "output_type": "stream",
          "name": "stdout",
          "text": [
            "The slowest run took 99.86 times longer than the fastest. This could mean that an intermediate result is being cached.\n",
            "100000 loops, best of 5: 11.3 µs per loop\n"
          ]
        }
      ]
    },
    {
      "cell_type": "code",
      "source": [
        "%%timeit\n",
        "A = torch.randn(2,3)\n",
        "B = torch.randn(3,1)\n",
        "A.mm(B) # a bit faster"
      ],
      "metadata": {
        "id": "1u0vrJwy5vJJ",
        "outputId": "06658421-05ce-44ac-db3d-e80c5ca7c91b",
        "colab": {
          "base_uri": "https://localhost:8080/"
        }
      },
      "id": "1u0vrJwy5vJJ",
      "execution_count": null,
      "outputs": [
        {
          "output_type": "stream",
          "name": "stdout",
          "text": [
            "The slowest run took 15.33 times longer than the fastest. This could mean that an intermediate result is being cached.\n",
            "100000 loops, best of 5: 10.6 µs per loop\n"
          ]
        }
      ]
    },
    {
      "cell_type": "code",
      "source": [
        "class SyntheticRegressionData_v2(d2l.DataModule):\n",
        "    def __init__(self, w, b, noise = 0.01, num_train = 1000, num_val = 100, \n",
        "                 batch_size = 32):\n",
        "        super().__init__()\n",
        "        self.save_hyperparameters()\n",
        "        n = num_train + num_val\n",
        "        self.X = torch.randn(n, len(w))\n",
        "        nosie = torch.randn(n,1)*noise\n",
        "        self.y = torch.matmul(self.X, w.reshape((-1,1))) + b + noise"
      ],
      "metadata": {
        "id": "u75q2eDE3UdZ"
      },
      "id": "u75q2eDE3UdZ",
      "execution_count": null,
      "outputs": []
    },
    {
      "cell_type": "code",
      "execution_count": null,
      "id": "41791aa9",
      "metadata": {
        "execution": {
          "iopub.execute_input": "2022-07-13T08:07:16.767945Z",
          "iopub.status.busy": "2022-07-13T08:07:16.767351Z",
          "iopub.status.idle": "2022-07-13T08:07:16.773146Z",
          "shell.execute_reply": "2022-07-13T08:07:16.772332Z"
        },
        "origin_pos": 6,
        "tab": [
          "pytorch"
        ],
        "id": "41791aa9"
      },
      "outputs": [],
      "source": [
        "class SyntheticRegressionData(d2l.DataModule):  #@save\n",
        "    def __init__(self, w, b, noise=0.01, num_train=1000, num_val=1000,\n",
        "                 batch_size=32):\n",
        "        super().__init__()\n",
        "        self.save_hyperparameters()\n",
        "        n = num_train + num_val\n",
        "        self.X = torch.randn(n, len(w))\n",
        "        noise = torch.randn(n, 1) * noise\n",
        "        self.y = torch.matmul(self.X, w.reshape((-1, 1))) + b + noise"
      ]
    },
    {
      "cell_type": "markdown",
      "id": "5e7896ec",
      "metadata": {
        "origin_pos": 7,
        "id": "5e7896ec"
      },
      "source": [
        "Below, we set the true parameters to $\\mathbf{w} = [2, -3.4]^\\top$ and $b = 4.2$.\n",
        "Later, we can check our estimated parameters against these *ground truth* values.\n"
      ]
    },
    {
      "cell_type": "code",
      "execution_count": null,
      "id": "a332d0b3",
      "metadata": {
        "execution": {
          "iopub.execute_input": "2022-07-13T08:07:16.800885Z",
          "iopub.status.busy": "2022-07-13T08:07:16.800302Z",
          "iopub.status.idle": "2022-07-13T08:07:16.806467Z",
          "shell.execute_reply": "2022-07-13T08:07:16.805655Z"
        },
        "origin_pos": 8,
        "tab": [
          "pytorch"
        ],
        "id": "a332d0b3"
      },
      "outputs": [],
      "source": [
        "data = SyntheticRegressionData(w=torch.tensor([2, -3.4]), b=4.2)"
      ]
    },
    {
      "cell_type": "markdown",
      "id": "0a3a6c64",
      "metadata": {
        "origin_pos": 9,
        "id": "0a3a6c64"
      },
      "source": [
        "[**Each row in `features` consists of a vector in $\\mathbb{R}^2$ and each row in `labels` is a scalar.**] Let's have a look at the first entry.\n"
      ]
    },
    {
      "cell_type": "code",
      "source": [
        "data.X.shape,data.y.shape"
      ],
      "metadata": {
        "id": "1PyRFy4446R3",
        "outputId": "ba0d6508-9b2b-4fab-e2cc-b8ec043f5816",
        "colab": {
          "base_uri": "https://localhost:8080/"
        }
      },
      "id": "1PyRFy4446R3",
      "execution_count": null,
      "outputs": [
        {
          "output_type": "execute_result",
          "data": {
            "text/plain": [
              "(torch.Size([1100, 2]), torch.Size([1100, 1]))"
            ]
          },
          "metadata": {},
          "execution_count": 29
        }
      ]
    },
    {
      "cell_type": "code",
      "execution_count": null,
      "id": "e9042455",
      "metadata": {
        "execution": {
          "iopub.execute_input": "2022-07-13T08:07:16.809953Z",
          "iopub.status.busy": "2022-07-13T08:07:16.809478Z",
          "iopub.status.idle": "2022-07-13T08:07:16.815747Z",
          "shell.execute_reply": "2022-07-13T08:07:16.814910Z"
        },
        "origin_pos": 10,
        "tab": [
          "pytorch"
        ],
        "colab": {
          "base_uri": "https://localhost:8080/"
        },
        "id": "e9042455",
        "outputId": "ed4a294f-55f7-497e-eab8-366e509a14a8"
      },
      "outputs": [
        {
          "output_type": "stream",
          "name": "stdout",
          "text": [
            "features: tensor([-0.4327, -0.0064]) \n",
            "label: tensor([3.3665])\n"
          ]
        }
      ],
      "source": [
        "print('features:', data.X[0],'\\nlabel:', data.y[0])"
      ]
    },
    {
      "cell_type": "markdown",
      "id": "e9a27384",
      "metadata": {
        "origin_pos": 11,
        "id": "e9a27384"
      },
      "source": [
        "## Reading the Dataset\n",
        "\n",
        "Training machine learning models often requires multiple passes over a dataset, \n",
        "grabbing one minibatch of examples at a time. \n",
        "This data is then used to update the model. \n",
        "To illustrate how this works, we \n",
        "[**implement the `get_dataloader` function,**] \n",
        "registering it as a method in the `SyntheticRegressionData` class via `add_to_class` (introduced in :numref:`oo-design-utilities`).\n",
        "It (**takes a batch size, a matrix of features,\n",
        "and a vector of labels, and generates minibatches of size `batch_size`.**)\n",
        "As such, each minibatch consists of a tuple of features and labels. \n",
        "Note that we need to be mindful of whether we're in training or validation mode: \n",
        "in the former, we will want to read the data in random order, \n",
        "whereas for the latter, being able to read data in a pre-defined order \n",
        "may be important for debugging purposes.\n"
      ]
    },
    {
      "cell_type": "code",
      "source": [
        "indices = list(range(0, 20))\n",
        "random.shuffle(indices)\n",
        "indices"
      ],
      "metadata": {
        "id": "OeihGetf7SjC",
        "outputId": "0eae14d8-a006-4fb7-e559-db8bb7a16722",
        "colab": {
          "base_uri": "https://localhost:8080/"
        }
      },
      "id": "OeihGetf7SjC",
      "execution_count": null,
      "outputs": [
        {
          "output_type": "execute_result",
          "data": {
            "text/plain": [
              "[13, 14, 2, 7, 6, 0, 11, 16, 15, 17, 12, 8, 1, 19, 10, 9, 5, 18, 3, 4]"
            ]
          },
          "metadata": {},
          "execution_count": 53
        }
      ]
    },
    {
      "cell_type": "code",
      "source": [
        "for i in range(1,20,3):\n",
        "    print(i)"
      ],
      "metadata": {
        "id": "7F7-pvT17k8d",
        "outputId": "9f7372d2-b142-4171-dc36-fe3417240dea",
        "colab": {
          "base_uri": "https://localhost:8080/"
        }
      },
      "id": "7F7-pvT17k8d",
      "execution_count": null,
      "outputs": [
        {
          "output_type": "stream",
          "name": "stdout",
          "text": [
            "1\n",
            "4\n",
            "7\n",
            "10\n",
            "13\n",
            "16\n",
            "19\n"
          ]
        }
      ]
    },
    {
      "cell_type": "code",
      "source": [
        "indices = torch.tensor(indices)"
      ],
      "metadata": {
        "id": "yRwuJhPw7xPD"
      },
      "id": "yRwuJhPw7xPD",
      "execution_count": null,
      "outputs": []
    },
    {
      "cell_type": "code",
      "source": [
        "torch.randn(50,20)[indices[0], indices[0]] # just like indexing ndarray"
      ],
      "metadata": {
        "id": "RuwqomkT72cG",
        "outputId": "6c6a2e3b-3518-4e8a-838c-2b5d65c3e069",
        "colab": {
          "base_uri": "https://localhost:8080/"
        }
      },
      "id": "RuwqomkT72cG",
      "execution_count": null,
      "outputs": [
        {
          "output_type": "execute_result",
          "data": {
            "text/plain": [
              "tensor(0.2187)"
            ]
          },
          "metadata": {},
          "execution_count": 62
        }
      ]
    },
    {
      "cell_type": "code",
      "execution_count": null,
      "id": "8771c06e",
      "metadata": {
        "execution": {
          "iopub.execute_input": "2022-07-13T08:07:16.820481Z",
          "iopub.status.busy": "2022-07-13T08:07:16.820013Z",
          "iopub.status.idle": "2022-07-13T08:07:16.825676Z",
          "shell.execute_reply": "2022-07-13T08:07:16.824849Z"
        },
        "origin_pos": 12,
        "tab": [
          "pytorch"
        ],
        "id": "8771c06e"
      },
      "outputs": [],
      "source": [
        "@d2l.add_to_class(SyntheticRegressionData) # add a method to previously defined class\n",
        "def get_dataloader(self, train):\n",
        "    if train:\n",
        "        indices = list(range(0, self.num_train))\n",
        "        # The examples are read in random order, shuffle inplace\n",
        "        random.shuffle(indices)\n",
        "    else:\n",
        "        indices = list(range(self.num_train, self.num_train+self.num_val))\n",
        "    for i in range(0, len(indices), self.batch_size):\n",
        "        batch_indices = torch.tensor(indices[i: i+self.batch_size])\n",
        "        yield self.X[batch_indices], self.y[batch_indices] # return a generator, how train module cooperater with this generator?"
      ]
    },
    {
      "cell_type": "markdown",
      "id": "9bd185f9",
      "metadata": {
        "origin_pos": 13,
        "id": "9bd185f9"
      },
      "source": [
        "To build some intuition, let's inspect the first minibatch of\n",
        "data. Each minibatch of features provides us with both its size and the dimensionality of input features.\n",
        "Likewise, our minibatch of labels will have a matching shape given by `batch_size`.\n"
      ]
    },
    {
      "cell_type": "code",
      "execution_count": null,
      "id": "09d618e9",
      "metadata": {
        "execution": {
          "iopub.execute_input": "2022-07-13T08:07:16.830362Z",
          "iopub.status.busy": "2022-07-13T08:07:16.829916Z",
          "iopub.status.idle": "2022-07-13T08:07:16.835400Z",
          "shell.execute_reply": "2022-07-13T08:07:16.834509Z"
        },
        "origin_pos": 14,
        "tab": [
          "pytorch"
        ],
        "colab": {
          "base_uri": "https://localhost:8080/"
        },
        "id": "09d618e9",
        "outputId": "83192e98-5549-45d7-afe0-07c356514adf"
      },
      "outputs": [
        {
          "output_type": "stream",
          "name": "stdout",
          "text": [
            "X shape: torch.Size([32, 2]) \n",
            "y shape: torch.Size([32, 1])\n"
          ]
        }
      ],
      "source": [
        "X, y = next(iter(data.train_dataloader()))\n",
        "print('X shape:', X.shape, '\\ny shape:', y.shape)"
      ]
    },
    {
      "cell_type": "markdown",
      "id": "90f4fb87",
      "metadata": {
        "origin_pos": 15,
        "id": "90f4fb87"
      },
      "source": [
        "While seemingly innocuous, the invocation \n",
        "of `iter(data.train_dataloader())` \n",
        "illustrates the power of Python's object-oriented design. \n",
        "Note that we added a method to the `SyntheticRegressionData` class\n",
        "*after* creating the `data` object. \n",
        "Nonetheless, the object benefits from \n",
        "the *ex post facto* addition of functionality to the class.\n",
        "\n",
        "Throughout the iteration we obtain distinct minibatches\n",
        "until the entire dataset has been exhausted (try this).\n",
        "While the iteration implemented above is good for didactic purposes,\n",
        "it is inefficient in ways that might get us in trouble on real problems.\n",
        "For example, it requires that we load all the data in memory\n",
        "and that we perform lots of random memory access.\n",
        "The built-in iterators implemented in a deep learning framework\n",
        "are considerably more efficient and they can deal\n",
        "with sources such as data stored in files, \n",
        "data received via a stream, \n",
        "and data generated or processed on the fly. \n",
        "Next let's try to implement the same function using built-in iterators.\n",
        "\n",
        "## Concise Implementation of the Data Loader\n",
        "\n",
        "Rather than writing our own iterator,\n",
        "we can [**call the existing API in a framework to load data.**]\n",
        "As before, we need a dataset with features `X` and labels `y`. \n",
        "Beyond that, we set `batch_size` in the built-in data loader \n",
        "and let it take care of shuffling examples  efficiently.\n"
      ]
    },
    {
      "cell_type": "code",
      "execution_count": null,
      "id": "c1fb611f",
      "metadata": {
        "execution": {
          "iopub.execute_input": "2022-07-13T08:07:16.840434Z",
          "iopub.status.busy": "2022-07-13T08:07:16.839994Z",
          "iopub.status.idle": "2022-07-13T08:07:16.845884Z",
          "shell.execute_reply": "2022-07-13T08:07:16.845062Z"
        },
        "origin_pos": 16,
        "tab": [
          "pytorch"
        ],
        "id": "c1fb611f"
      },
      "outputs": [],
      "source": [
        "@d2l.add_to_class(d2l.DataModule)  #@save\n",
        "def get_tensorloader(self, tensors, train, indices=slice(0, None)):\n",
        "    tensors = tuple(a[indices] for a in tensors) # a equals to X or y. Use tuple to concatenate them again\n",
        "dataset = torch.utils.data.TensorDataset(*tensors) # unpack X and y\n",
        "    return torch.utils.data.DataLoader(dataset, self.batch_size,\n",
        "                                       shuffle=train)\n",
        "@d2l.add_to_class(SyntheticRegressionData)  #@save\n",
        "def get_dataloader(self, train):\n",
        "    i = slice(0, self.num_train) if train else slice(self.num_train, None)\n",
        "    return self.get_tensorloader((self.X, self.y), train, i)"
      ]
    },
    {
      "cell_type": "markdown",
      "id": "89b60134",
      "metadata": {
        "origin_pos": 17,
        "id": "89b60134"
      },
      "source": [
        "The new data loader behaves just as the previous one, except that it is more efficient and has some added functionality.\n"
      ]
    },
    {
      "cell_type": "code",
      "execution_count": null,
      "id": "c469cc42",
      "metadata": {
        "attributes": {
          "classes": [],
          "id": "",
          "n": "4"
        },
        "execution": {
          "iopub.execute_input": "2022-07-13T08:07:16.851363Z",
          "iopub.status.busy": "2022-07-13T08:07:16.850799Z",
          "iopub.status.idle": "2022-07-13T08:07:16.856914Z",
          "shell.execute_reply": "2022-07-13T08:07:16.856063Z"
        },
        "origin_pos": 18,
        "tab": [
          "pytorch"
        ],
        "colab": {
          "base_uri": "https://localhost:8080/"
        },
        "id": "c469cc42",
        "outputId": "85da0be6-481a-4739-8949-70b32203d4e1"
      },
      "outputs": [
        {
          "output_type": "stream",
          "name": "stdout",
          "text": [
            "X shape: torch.Size([32, 2]) \n",
            "y shape: torch.Size([32, 1])\n"
          ]
        }
      ],
      "source": [
        "X, y = next(iter(data.train_dataloader()))\n",
        "print('X shape:', X.shape, '\\ny shape:', y.shape)"
      ]
    },
    {
      "cell_type": "markdown",
      "id": "94ecf9ee",
      "metadata": {
        "origin_pos": 19,
        "id": "94ecf9ee"
      },
      "source": [
        "For instance, the data loader provided by the framework API \n",
        "supports the built-in `__len__` method, \n",
        "so we can query its length, \n",
        "i.e., the number of batches.\n"
      ]
    },
    {
      "cell_type": "code",
      "execution_count": null,
      "id": "af1833e1",
      "metadata": {
        "execution": {
          "iopub.execute_input": "2022-07-13T08:07:16.861902Z",
          "iopub.status.busy": "2022-07-13T08:07:16.861354Z",
          "iopub.status.idle": "2022-07-13T08:07:16.868716Z",
          "shell.execute_reply": "2022-07-13T08:07:16.867881Z"
        },
        "origin_pos": 20,
        "tab": [
          "pytorch"
        ],
        "colab": {
          "base_uri": "https://localhost:8080/"
        },
        "id": "af1833e1",
        "outputId": "d10ceef9-33af-4cb6-c8e3-7302a57588f8"
      },
      "outputs": [
        {
          "output_type": "execute_result",
          "data": {
            "text/plain": [
              "32"
            ]
          },
          "metadata": {},
          "execution_count": 78
        }
      ],
      "source": [
        "len(data.train_dataloader())"
      ]
    },
    {
      "cell_type": "code",
      "source": [
        "data.get_tensorloader((data.X, data.y), 'train', slice(0, data.num_train))"
      ],
      "metadata": {
        "id": "5BooAPqb9ajC",
        "outputId": "5493f8b5-4c8d-4217-a0e3-7a7f97986bde",
        "colab": {
          "base_uri": "https://localhost:8080/"
        }
      },
      "id": "5BooAPqb9ajC",
      "execution_count": null,
      "outputs": [
        {
          "output_type": "execute_result",
          "data": {
            "text/plain": [
              "<torch.utils.data.dataloader.DataLoader at 0x7fe529aa27d0>"
            ]
          },
          "metadata": {},
          "execution_count": 98
        }
      ]
    },
    {
      "cell_type": "code",
      "source": [
        "# slice(start, limit, step). slice(0, None) means ::, which takes all of the data!\n",
        "slice(0,None),slice(0,20)\n",
        "torch.randn(20,30)[slice(0,2)].shape,torch.randn(20,30)[slice(0,None, None)].shape"
      ],
      "metadata": {
        "id": "6xhz1HX7_f2B",
        "outputId": "d1a91804-79b4-4c24-9436-2f69f354954b",
        "colab": {
          "base_uri": "https://localhost:8080/"
        }
      },
      "id": "6xhz1HX7_f2B",
      "execution_count": null,
      "outputs": [
        {
          "output_type": "execute_result",
          "data": {
            "text/plain": [
              "(torch.Size([2, 30]), torch.Size([20, 30]))"
            ]
          },
          "metadata": {},
          "execution_count": 108
        }
      ]
    },
    {
      "cell_type": "markdown",
      "id": "b83f9309",
      "metadata": {
        "origin_pos": 21,
        "id": "b83f9309"
      },
      "source": [
        "## Summary\n",
        "\n",
        "Data loaders are a convenient way of abstracting out \n",
        "the process of loading and manipulating data. \n",
        "This way the same machine learning *algorithm* \n",
        "is capable of processing many different types and sources of data \n",
        "without the need for modification. \n",
        "One of the nice things about data loaders \n",
        "is that they can be composed. \n",
        "For instance, we might be loading images \n",
        "and then have a post-processing filter \n",
        "that crops them or modifies them otherwise. \n",
        "As such, data loaders can be used \n",
        "to describe an entire data processing pipeline. \n",
        "\n",
        "As for the model itself, the two-dimensional linear model \n",
        "is about as simple a model as we might encounter. \n",
        "It lets us test out the accuracy of regression models \n",
        "without worry about having insufficient amounts of data \n",
        "or an underdetermined system of equations. \n",
        "We will put this to good use in the next section.  \n",
        "\n",
        "\n",
        "## Exercises\n",
        "\n",
        "1. What will happen if the number of examples cannot be divided by the batch size. How to change this behavior by specifying a different argument by using framework's API?\n",
        "1. What if we want to generate a huge dataset, where both the size of the parameter vector `w` and the number of examples `num_examples` are large? \n",
        "    1. What happens if we cannot hold all data in memory?\n",
        "    1. How would you shuffle the data if data is held on disk? Your task is to design an *efficient* algorithm that does not require too many random reads or writes. Hint: [pseudorandom permutation generators](https://en.wikipedia.org/wiki/Pseudorandom_permutation) allow you to design a reshuffle without the need to store the permutation table explicitly :cite:`Naor.Reingold.1999`. \n",
        "1. Implement a data generator that produces new data on the fly, every time the iterator is called. \n",
        "1. How would you design a random data generator that generates *the same* data each time it's called?\n"
      ]
    },
    {
      "cell_type": "code",
      "source": [
        "# Q1: It will return all data remaining\n",
        "[1,2,3,4][3:6]"
      ],
      "metadata": {
        "id": "3ivjYMay9ZfJ",
        "outputId": "a51fb9a1-f2f1-45d5-c3d2-14e40abff90a",
        "colab": {
          "base_uri": "https://localhost:8080/"
        }
      },
      "id": "3ivjYMay9ZfJ",
      "execution_count": null,
      "outputs": [
        {
          "output_type": "execute_result",
          "data": {
            "text/plain": [
              "[4]"
            ]
          },
          "metadata": {},
          "execution_count": 112
        }
      ]
    },
    {
      "cell_type": "markdown",
      "source": [
        "Q1:\n",
        "1. It will return all data remaing\n",
        "\n",
        "Q2: \n",
        "1. We need to read particular part of file from the disk\n",
        "2. Although X(original data) is huge, we define a small data K, and use F(X,k) -> X to find a pseudorandom permutaion\n",
        "\n",
        "Q3:\n",
        "1. TBD\n",
        "\n",
        "Q4:\n",
        "1. Manually set seed with `torch.manual_seed()`. `torch.manual_seed()` set seed for CPU，`torch.cuda.manual_seed()` set seed for GPU，`torch.cuda.manual_seed_all()` set seed for all GPUs，`random.seed()` set seed for random module"
      ],
      "metadata": {
        "id": "wL1QBan8EzUQ"
      },
      "id": "wL1QBan8EzUQ"
    },
    {
      "cell_type": "code",
      "source": [
        "torch.manual_seed(0)\n",
        "torch.randn(3,2)"
      ],
      "metadata": {
        "id": "SUGDEwPzFMr1",
        "outputId": "9d6a5fad-6f35-42df-bbcf-d03c19b9fa30",
        "colab": {
          "base_uri": "https://localhost:8080/"
        }
      },
      "id": "SUGDEwPzFMr1",
      "execution_count": null,
      "outputs": [
        {
          "output_type": "execute_result",
          "data": {
            "text/plain": [
              "tensor([[ 1.5410, -0.2934],\n",
              "        [-2.1788,  0.5684],\n",
              "        [-1.0845, -1.3986]])"
            ]
          },
          "metadata": {},
          "execution_count": 123
        }
      ]
    },
    {
      "cell_type": "code",
      "source": [
        "# import torch\n",
        " \n",
        "torch.manual_seed(0)\n",
        "print(torch.rand(1, 2)) # rand\n",
        " \n",
        "torch.manual_seed(0)\n",
        "print(torch.randn(1, 2)) # randn"
      ],
      "metadata": {
        "id": "23dSqqAYFNPR",
        "outputId": "4a1f8e40-ad8b-42cf-e423-86db5e9a3e46",
        "colab": {
          "base_uri": "https://localhost:8080/"
        }
      },
      "id": "23dSqqAYFNPR",
      "execution_count": null,
      "outputs": [
        {
          "output_type": "stream",
          "name": "stdout",
          "text": [
            "tensor([[0.4963, 0.7682]])\n",
            "tensor([[ 1.5410, -0.2934]])\n"
          ]
        }
      ]
    },
    {
      "cell_type": "code",
      "source": [],
      "metadata": {
        "id": "_7UZm9JQHsdU"
      },
      "id": "_7UZm9JQHsdU",
      "execution_count": null,
      "outputs": []
    },
    {
      "cell_type": "markdown",
      "id": "6c1c458e",
      "metadata": {
        "origin_pos": 23,
        "tab": [
          "pytorch"
        ],
        "id": "6c1c458e"
      },
      "source": [
        "[Discussions](https://discuss.d2l.ai/t/6663)\n"
      ]
    }
  ],
  "metadata": {
    "kernelspec": {
      "display_name": "Python 3",
      "name": "python3"
    },
    "language_info": {
      "name": "python"
    },
    "colab": {
      "name": "synthetic-regression-data.ipynb",
      "provenance": [],
      "include_colab_link": true
    }
  },
  "nbformat": 4,
  "nbformat_minor": 5
}